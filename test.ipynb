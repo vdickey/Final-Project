{
 "cells": [
  {
   "cell_type": "code",
   "execution_count": 1,
   "metadata": {
    "scrolled": true
   },
   "outputs": [
    {
     "name": "stdout",
     "output_type": "stream",
     "text": [
      "       Log      Hay       NP     Dune\n",
      "0  427.536  454.036  491.275  506.030\n",
      "1  461.572  493.498  466.368  369.939\n",
      "2      NaN  520.387  557.441  374.606\n"
     ]
    }
   ],
   "source": [
    "import numpy as np\n",
    "from scipy import stats, optimize\n",
    "import pandas as pd\n",
    "\n",
    "mean_data = pd.read_csv ('file:///C:/Users/Victoria/Documents/Data Analytics/Final Project/analysis/Mean_Data.csv')\n",
    "print (mean_data)\n",
    "\n"
   ]
  },
  {
   "cell_type": "code",
   "execution_count": 2,
   "metadata": {},
   "outputs": [
    {
     "data": {
      "text/plain": [
       "0    427.536\n",
       "1    461.572\n",
       "Name: Log, dtype: float64"
      ]
     },
     "execution_count": 2,
     "metadata": {},
     "output_type": "execute_result"
    }
   ],
   "source": [
    "fi = np.isfinite(mean_data['Log'])\n",
    "mean_data['Log'][fi]"
   ]
  },
  {
   "cell_type": "code",
   "execution_count": 3,
   "metadata": {},
   "outputs": [
    {
     "data": {
      "text/plain": [
       "Index(['Log', 'Hay', 'NP', 'Dune'], dtype='object')"
      ]
     },
     "execution_count": 3,
     "metadata": {},
     "output_type": "execute_result"
    }
   ],
   "source": [
    "mean_data.keys()"
   ]
  },
  {
   "cell_type": "code",
   "execution_count": 4,
   "metadata": {},
   "outputs": [
    {
     "name": "stdout",
     "output_type": "stream",
     "text": [
      "1.7476672763506207 0.2442405688607124\n"
     ]
    }
   ],
   "source": [
    "F,p = stats.f_oneway(mean_data['Log'][fi],mean_data['Hay'], mean_data['NP'], mean_data['Dune'])\n",
    "print (F,p)\n"
   ]
  },
  {
   "cell_type": "code",
   "execution_count": 5,
   "metadata": {},
   "outputs": [
    {
     "name": "stdout",
     "output_type": "stream",
     "text": [
      "We fail to reject the null hypothesis and do not have to complete a Post-Hoc Test\n"
     ]
    }
   ],
   "source": [
    "if p < .05:\n",
    "    print('We reject the null hypothesis')\n",
    "else: \n",
    "    print('We fail to reject the null hypothesis and do not have to complete a Post-Hoc Test')"
   ]
  },
  {
   "cell_type": "code",
   "execution_count": 6,
   "metadata": {},
   "outputs": [],
   "source": [
    "from __future__ import print_function\n",
    "from statsmodels.stats import power as p\n"
   ]
  },
  {
   "cell_type": "code",
   "execution_count": 7,
   "metadata": {},
   "outputs": [
    {
     "name": "stdout",
     "output_type": "stream",
     "text": [
      "74.04459560113492\n"
     ]
    }
   ],
   "source": [
    "#Anova Power Test\n",
    "samplenumber = p.FTestAnovaPower().solve_power(effect_size=0.33,nobs=None,alpha=0.05,power=0.8)\n",
    "print(samplenumber)"
   ]
  },
  {
   "cell_type": "code",
   "execution_count": null,
   "metadata": {},
   "outputs": [],
   "source": []
  },
  {
   "cell_type": "code",
   "execution_count": null,
   "metadata": {},
   "outputs": [],
   "source": []
  },
  {
   "cell_type": "code",
   "execution_count": null,
   "metadata": {},
   "outputs": [],
   "source": []
  }
 ],
 "metadata": {
  "kernelspec": {
   "display_name": "Python 3",
   "language": "python",
   "name": "python3"
  },
  "language_info": {
   "codemirror_mode": {
    "name": "ipython",
    "version": 3
   },
   "file_extension": ".py",
   "mimetype": "text/x-python",
   "name": "python",
   "nbconvert_exporter": "python",
   "pygments_lexer": "ipython3",
   "version": "3.7.1"
  }
 },
 "nbformat": 4,
 "nbformat_minor": 2
}
