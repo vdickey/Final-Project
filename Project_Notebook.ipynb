{
 "cells": [
  {
   "cell_type": "markdown",
   "metadata": {},
   "source": [
    "# Analysis for significant differences in particle grain sizes for different restoration methods on the dunes on Salinas River State Beach "
   ]
  },
  {
   "cell_type": "markdown",
   "metadata": {},
   "source": [
    "#                                           Victoria Dickey "
   ]
  },
  {
   "cell_type": "markdown",
   "metadata": {},
   "source": [
    "# MS263"
   ]
  },
  {
   "cell_type": "markdown",
   "metadata": {},
   "source": [
    "__Outline__\n",
    "1. Introduction\n",
    "1. Methods & Data Sources\n",
    "1. Results\n",
    "1. Conclusions\n",
    "1. Ideas for Future Work\n",
    "1. References"
   ]
  },
  {
   "cell_type": "markdown",
   "metadata": {},
   "source": [
    "__Introduction__\n",
    "\n",
    "Here in Monterey, dunes are essential to protecting our low-lying coastal communities and agriculture fields from storms, waves, and erosion. The anatomy of the beach dunes is controlled naturally by the wind and waves. The dunes here in Monterey Bay are blanketed by green and red ice plant which was introduced in the early 1900s to stabilize these naturally changing dunes. Ice plant (Carpobrotus edulis) has shallow roots that form a dense mat, which prevents sand from shifting during wind and storm events. Scientists now think that the sand underneath the ice plant mat erodes and the ice plant mat drops to the new elevation of sand. Native plants associated with the dune habitat have longer root systems that allow dunes to shift around them. It may be important to eradicate ice plant and introduce native plants for the preservation of not only our dunes but also our communities as climate change increases the frequency of storm events. \n",
    "\tThe Central Coast Wetlands Group (https://www.mlml.calstate.edu/ccwg/) here in Moss Landing is currently working on a project to monitor sand loss on the local beach dunes. They have implemented different types of “nourishments” to help accumulate sand naturally. Some nourishments include hay barrels, native plants, and logs. They are doing this project to see if these nourishments help accumulate sand better than what the ice plant was originally thought to achieve. \n",
    "For this project, I preform a one-way ANOVA analysis to see if there is a significant difference in grain size distribution between different nourishment areas: hay barrel, log, native plant. I have log-transformed the data because they are heavily positively skewed from waves and wind (Abuodha, 2003). My one-way ANOVA produces an F-statistic and p-value. After the ANOVA, I also perform a power analysis on the data to understand how many samples I should take in the future to get statistically significant data. I use the log-transformed particle diameter figures to create a visual to compare the grain size distributions among each nourishment and the control samples. \n",
    "\n",
    "__Methods & Data Sources__\n",
    "\n",
    "For this study, I use a Laser Diffraction Particle Size Analyzer to determine the grain sizes of all of the samples. Laser diffraction measures the angular dependence of laser light scattered by an ensemble of particles (López, 2016). With these measurements and the software associated with the Laser Diffraction Particle Size Analyzer, we can log transform the data and understand the grain size distributions and the mean grain sizes for each sample. \n",
    "Samples of sediment were taken on 2-20-2019 at Salinas State River Beach just past the Protrero Road parking lot. For the log nourishment: one sample was taken in front of the log (W1-A) and one sample was taken on the back of the log (W1-B) (Figure 1). For the hay barrel nourishment, 3 samples were taken in the front (HB3-A1, HB3-A2, HB3-A3), in the center (HB3-C1, HB3-C2, HB3-C3),  and on the back (HB3-B1, HB3-B2, HB3-B3), in a lateral pattern (Figure 2 a & b). For the native plant nourishment, 3 samples were taken, one at each plant (DG1, DG2 and DG3). After collecting the samples, they were dried and sieved through a sieve with 2 mm openings. Then, the samples were processed through the Laser Diffraction Particle Size Analyzer (LS 13 320). For each sample, preliminary statistics have been calculated using the LS software associated with the Laser Diffraction Particle Size Analyzer (Figure 1 & Figure 2b). "
   ]
  },
  {
   "cell_type": "code",
   "execution_count": 1,
   "metadata": {},
   "outputs": [],
   "source": [
    "#Edit and add in figures"
   ]
  },
  {
   "cell_type": "markdown",
   "metadata": {},
   "source": [
    "__Results__"
   ]
  },
  {
   "cell_type": "code",
   "execution_count": 2,
   "metadata": {},
   "outputs": [
    {
     "name": "stdout",
     "output_type": "stream",
     "text": [
      "       Log      Hay       NP     Dune\n",
      "0  427.536  454.036  491.275  506.030\n",
      "1  461.572  493.498  466.368  369.939\n",
      "2      NaN  520.387  557.441  374.606\n"
     ]
    }
   ],
   "source": [
    "import numpy as np\n",
    "from scipy import stats, optimize\n",
    "import pandas as pd\n",
    "\n",
    "mean_data = pd.read_csv ('file:///C:/Users/Victoria/Documents/Data Analytics/Final Project/analysis/Mean_Data.csv')\n",
    "print (mean_data)\n"
   ]
  },
  {
   "cell_type": "code",
   "execution_count": 3,
   "metadata": {},
   "outputs": [
    {
     "data": {
      "text/plain": [
       "0    427.536\n",
       "1    461.572\n",
       "Name: Log, dtype: float64"
      ]
     },
     "execution_count": 3,
     "metadata": {},
     "output_type": "execute_result"
    }
   ],
   "source": [
    "fi = np.isfinite(mean_data['Log'])\n",
    "mean_data['Log'][fi]"
   ]
  },
  {
   "cell_type": "code",
   "execution_count": 5,
   "metadata": {},
   "outputs": [
    {
     "name": "stdout",
     "output_type": "stream",
     "text": [
      "1.7476672763506207 0.2442405688607124\n"
     ]
    }
   ],
   "source": [
    "F,p = stats.f_oneway(mean_data['Log'][fi],mean_data['Hay'], mean_data['NP'], mean_data['Dune'])\n",
    "print (F,p)\n"
   ]
  },
  {
   "cell_type": "code",
   "execution_count": 6,
   "metadata": {},
   "outputs": [
    {
     "name": "stdout",
     "output_type": "stream",
     "text": [
      "We fail to reject the null hypothesis and do not have to complete a Post-Hoc Test\n"
     ]
    }
   ],
   "source": [
    "if p < .05:\n",
    "    print('We reject the null hypothesis')\n",
    "else: \n",
    "    print('We fail to reject the null hypothesis and do not have to complete a Post-Hoc Test')"
   ]
  },
  {
   "cell_type": "code",
   "execution_count": 7,
   "metadata": {},
   "outputs": [],
   "source": [
    "from __future__ import print_function\n",
    "from statsmodels.stats import power as p"
   ]
  },
  {
   "cell_type": "code",
   "execution_count": 8,
   "metadata": {},
   "outputs": [
    {
     "name": "stdout",
     "output_type": "stream",
     "text": [
      "74.04459560113492\n"
     ]
    }
   ],
   "source": [
    "#Anova Power Test\n",
    "samplenumber = p.FTestAnovaPower().solve_power(effect_size=0.33,nobs=None,alpha=0.05,power=0.8)\n",
    "print(samplenumber)"
   ]
  },
  {
   "cell_type": "markdown",
   "metadata": {},
   "source": [
    "__Conclusions__"
   ]
  },
  {
   "cell_type": "markdown",
   "metadata": {},
   "source": [
    "__Ideas for Future Work__"
   ]
  },
  {
   "cell_type": "markdown",
   "metadata": {},
   "source": [
    "__References__"
   ]
  },
  {
   "cell_type": "code",
   "execution_count": null,
   "metadata": {},
   "outputs": [],
   "source": []
  }
 ],
 "metadata": {
  "kernelspec": {
   "display_name": "Python 3",
   "language": "python",
   "name": "python3"
  },
  "language_info": {
   "codemirror_mode": {
    "name": "ipython",
    "version": 3
   },
   "file_extension": ".py",
   "mimetype": "text/x-python",
   "name": "python",
   "nbconvert_exporter": "python",
   "pygments_lexer": "ipython3",
   "version": "3.7.1"
  }
 },
 "nbformat": 4,
 "nbformat_minor": 2
}
